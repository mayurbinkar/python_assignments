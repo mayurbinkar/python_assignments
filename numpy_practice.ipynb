{
 "cells": [
  {
   "cell_type": "code",
   "execution_count": null,
   "metadata": {},
   "outputs": [],
   "source": []
  },
  {
   "cell_type": "markdown",
   "metadata": {},
   "source": [
    "# Numpy\n"
   ]
  },
  {
   "cell_type": "code",
   "execution_count": 1,
   "metadata": {},
   "outputs": [],
   "source": [
    "import numpy as np"
   ]
  },
  {
   "cell_type": "code",
   "execution_count": 2,
   "metadata": {},
   "outputs": [],
   "source": [
    "np1 = np.array([10,20,30,40,50,60,70]),        #array lists\n",
    "np2 = np.array(['orange','mango','apple']),\n",
    "np3 = np.array([1,'data'])"
   ]
  },
  {
   "cell_type": "code",
   "execution_count": 3,
   "metadata": {},
   "outputs": [
    {
     "name": "stdout",
     "output_type": "stream",
     "text": [
      "(array([10, 20, 30, 40, 50, 60, 70]),)\n",
      "(array(['orange', 'mango', 'apple'], dtype='<U6'),)\n",
      "['1' 'data']\n"
     ]
    }
   ],
   "source": [
    "print(np1)\n",
    "print(np2)\n",
    "print(np3)"
   ]
  },
  {
   "cell_type": "code",
   "execution_count": 4,
   "metadata": {},
   "outputs": [
    {
     "data": {
      "text/plain": [
       "(tuple,\n",
       " (array(['orange', 'mango', 'apple'], dtype='<U6'),),\n",
       " array(['1', 'data'], dtype='<U11'))"
      ]
     },
     "execution_count": 4,
     "metadata": {},
     "output_type": "execute_result"
    }
   ],
   "source": [
    "type(np1),(np2),(np3)"
   ]
  },
  {
   "cell_type": "code",
   "execution_count": 5,
   "metadata": {},
   "outputs": [],
   "source": [
    "mat1 = np.array([['a','b','c'],['d','f','g']]) #creating 2 dimensional string array list "
   ]
  },
  {
   "cell_type": "code",
   "execution_count": 6,
   "metadata": {},
   "outputs": [
    {
     "data": {
      "text/plain": [
       "array([['a', 'b', 'c'],\n",
       "       ['d', 'f', 'g']], dtype='<U1')"
      ]
     },
     "execution_count": 6,
     "metadata": {},
     "output_type": "execute_result"
    }
   ],
   "source": [
    "mat1"
   ]
  },
  {
   "cell_type": "code",
   "execution_count": 7,
   "metadata": {},
   "outputs": [
    {
     "data": {
      "text/plain": [
       "<function tuple.count(value, /)>"
      ]
     },
     "execution_count": 7,
     "metadata": {},
     "output_type": "execute_result"
    }
   ],
   "source": [
    "np1.count"
   ]
  },
  {
   "cell_type": "code",
   "execution_count": 8,
   "metadata": {},
   "outputs": [
    {
     "data": {
      "text/plain": [
       "(2, 3)"
      ]
     },
     "execution_count": 8,
     "metadata": {},
     "output_type": "execute_result"
    }
   ],
   "source": [
    "mat1.shape"
   ]
  },
  {
   "cell_type": "code",
   "execution_count": 9,
   "metadata": {},
   "outputs": [
    {
     "data": {
      "text/plain": [
       "dtype('<U1')"
      ]
     },
     "execution_count": 9,
     "metadata": {},
     "output_type": "execute_result"
    }
   ],
   "source": [
    "mat1.dtype"
   ]
  },
  {
   "cell_type": "code",
   "execution_count": 10,
   "metadata": {},
   "outputs": [
    {
     "ename": "AttributeError",
     "evalue": "'tuple' object has no attribute 'dtype'",
     "output_type": "error",
     "traceback": [
      "\u001b[1;31m---------------------------------------------------------------------------\u001b[0m",
      "\u001b[1;31mAttributeError\u001b[0m                            Traceback (most recent call last)",
      "Cell \u001b[1;32mIn[10], line 1\u001b[0m\n\u001b[1;32m----> 1\u001b[0m \u001b[38;5;28mprint\u001b[39m(\u001b[43mnp1\u001b[49m\u001b[38;5;241;43m.\u001b[39;49m\u001b[43mdtype\u001b[49m)\n\u001b[0;32m      2\u001b[0m \u001b[38;5;28mprint\u001b[39m(np2\u001b[38;5;241m.\u001b[39mdtype)\n\u001b[0;32m      3\u001b[0m \u001b[38;5;28mprint\u001b[39m(np3\u001b[38;5;241m.\u001b[39mdtype)\n",
      "\u001b[1;31mAttributeError\u001b[0m: 'tuple' object has no attribute 'dtype'"
     ]
    }
   ],
   "source": [
    "print(np1.dtype)\n",
    "print(np2.dtype)\n",
    "print(np3.dtype)\n",
    "\n"
   ]
  },
  {
   "cell_type": "code",
   "execution_count": null,
   "metadata": {},
   "outputs": [],
   "source": [
    "mat1[0,0] = 11"
   ]
  },
  {
   "cell_type": "code",
   "execution_count": null,
   "metadata": {},
   "outputs": [
    {
     "data": {
      "text/plain": [
       "array([['1', 'b', 'c'],\n",
       "       ['d', 'f', 'g']], dtype='<U1')"
      ]
     },
     "execution_count": 34,
     "metadata": {},
     "output_type": "execute_result"
    }
   ],
   "source": [
    "mat1"
   ]
  },
  {
   "cell_type": "code",
   "execution_count": null,
   "metadata": {},
   "outputs": [],
   "source": [
    "#mat1[(0,2)] = \"text\"\n",
    "mat=np.zeros((3,3))\n"
   ]
  },
  {
   "cell_type": "code",
   "execution_count": null,
   "metadata": {},
   "outputs": [
    {
     "data": {
      "text/plain": [
       "array([[0., 0., 0.],\n",
       "       [0., 0., 0.],\n",
       "       [0., 0., 0.]])"
      ]
     },
     "execution_count": 38,
     "metadata": {},
     "output_type": "execute_result"
    }
   ],
   "source": [
    "mat"
   ]
  },
  {
   "cell_type": "code",
   "execution_count": null,
   "metadata": {},
   "outputs": [],
   "source": [
    "mat[0,0]=11"
   ]
  },
  {
   "cell_type": "code",
   "execution_count": null,
   "metadata": {},
   "outputs": [
    {
     "data": {
      "text/plain": [
       "array([[11.,  0.,  0.],\n",
       "       [ 0.,  0.,  0.],\n",
       "       [ 0.,  0.,  0.]])"
      ]
     },
     "execution_count": 40,
     "metadata": {},
     "output_type": "execute_result"
    }
   ],
   "source": [
    "mat"
   ]
  },
  {
   "cell_type": "code",
   "execution_count": null,
   "metadata": {},
   "outputs": [],
   "source": [
    "\n",
    "arr3 = np.ones((3,2))"
   ]
  },
  {
   "cell_type": "code",
   "execution_count": null,
   "metadata": {},
   "outputs": [
    {
     "data": {
      "text/plain": [
       "array([[1., 1.],\n",
       "       [1., 1.],\n",
       "       [1., 1.]])"
      ]
     },
     "execution_count": 41,
     "metadata": {},
     "output_type": "execute_result"
    }
   ],
   "source": [
    "arr3"
   ]
  },
  {
   "cell_type": "code",
   "execution_count": null,
   "metadata": {},
   "outputs": [],
   "source": [
    "mat2 = np.arange(1,50,2)  #range betwwen 1 to 50 divided by 2"
   ]
  },
  {
   "cell_type": "code",
   "execution_count": null,
   "metadata": {},
   "outputs": [
    {
     "data": {
      "text/plain": [
       "array([ 1,  3,  5,  7,  9, 11, 13, 15, 17, 19, 21, 23, 25, 27, 29, 31, 33,\n",
       "       35, 37, 39, 41, 43, 45, 47, 49])"
      ]
     },
     "execution_count": 52,
     "metadata": {},
     "output_type": "execute_result"
    }
   ],
   "source": [
    "mat2"
   ]
  },
  {
   "cell_type": "code",
   "execution_count": null,
   "metadata": {},
   "outputs": [],
   "source": [
    "mat3 = np.linspace(1,25,50)"
   ]
  },
  {
   "cell_type": "code",
   "execution_count": null,
   "metadata": {},
   "outputs": [
    {
     "data": {
      "text/plain": [
       "array([ 1.        ,  1.48979592,  1.97959184,  2.46938776,  2.95918367,\n",
       "        3.44897959,  3.93877551,  4.42857143,  4.91836735,  5.40816327,\n",
       "        5.89795918,  6.3877551 ,  6.87755102,  7.36734694,  7.85714286,\n",
       "        8.34693878,  8.83673469,  9.32653061,  9.81632653, 10.30612245,\n",
       "       10.79591837, 11.28571429, 11.7755102 , 12.26530612, 12.75510204,\n",
       "       13.24489796, 13.73469388, 14.2244898 , 14.71428571, 15.20408163,\n",
       "       15.69387755, 16.18367347, 16.67346939, 17.16326531, 17.65306122,\n",
       "       18.14285714, 18.63265306, 19.12244898, 19.6122449 , 20.10204082,\n",
       "       20.59183673, 21.08163265, 21.57142857, 22.06122449, 22.55102041,\n",
       "       23.04081633, 23.53061224, 24.02040816, 24.51020408, 25.        ])"
      ]
     },
     "execution_count": 72,
     "metadata": {},
     "output_type": "execute_result"
    }
   ],
   "source": [
    "mat3"
   ]
  },
  {
   "cell_type": "code",
   "execution_count": null,
   "metadata": {},
   "outputs": [
    {
     "data": {
      "text/plain": [
       "(50,)"
      ]
     },
     "execution_count": 73,
     "metadata": {},
     "output_type": "execute_result"
    }
   ],
   "source": [
    "mat3.shape"
   ]
  },
  {
   "cell_type": "code",
   "execution_count": null,
   "metadata": {},
   "outputs": [],
   "source": [
    "mat4 = np.random.rand(5,10)"
   ]
  },
  {
   "cell_type": "code",
   "execution_count": null,
   "metadata": {},
   "outputs": [
    {
     "data": {
      "text/plain": [
       "array([[0.90284399, 0.6801615 , 0.31713137, 0.49677651, 0.3152719 ,\n",
       "        0.11723449, 0.47842384, 0.21728079, 0.9423657 , 0.19790123],\n",
       "       [0.44528552, 0.53061419, 0.37267555, 0.8032365 , 0.06319804,\n",
       "        0.84792023, 0.51944321, 0.1397127 , 0.62779935, 0.15488218],\n",
       "       [0.72607809, 0.90973333, 0.96613283, 0.19827928, 0.70942833,\n",
       "        0.57824471, 0.01504302, 0.17190472, 0.12765565, 0.38269848],\n",
       "       [0.59768664, 0.49482361, 0.5148999 , 0.41399   , 0.01114643,\n",
       "        0.96746745, 0.51088352, 0.31049543, 0.23129802, 0.16174367],\n",
       "       [0.56907639, 0.78135076, 0.33275695, 0.58523074, 0.11021488,\n",
       "        0.21959409, 0.14747382, 0.90447849, 0.3120674 , 0.85474528]])"
      ]
     },
     "execution_count": 77,
     "metadata": {},
     "output_type": "execute_result"
    }
   ],
   "source": [
    "mat4"
   ]
  },
  {
   "cell_type": "code",
   "execution_count": null,
   "metadata": {},
   "outputs": [],
   "source": [
    "mat5= np.random.randn(5,5)"
   ]
  },
  {
   "cell_type": "code",
   "execution_count": null,
   "metadata": {},
   "outputs": [
    {
     "data": {
      "text/plain": [
       "array([[ 0.34061269, -0.82553864, -1.11075627, -0.98037315, -0.78329374],\n",
       "       [ 1.38676035, -0.39897838,  0.98303428, -0.78147991,  0.52044426],\n",
       "       [ 1.25010956,  0.2040871 , -0.13919717, -0.00916772, -0.97129611],\n",
       "       [-0.53288334, -0.06928201,  0.85372679, -0.59430896,  0.27354786],\n",
       "       [-0.33687454,  1.36659509,  0.18268374,  0.30735796,  0.65618153]])"
      ]
     },
     "execution_count": 79,
     "metadata": {},
     "output_type": "execute_result"
    }
   ],
   "source": [
    "mat5"
   ]
  },
  {
   "cell_type": "code",
   "execution_count": null,
   "metadata": {},
   "outputs": [
    {
     "data": {
      "text/plain": [
       "11.0"
      ]
     },
     "execution_count": 88,
     "metadata": {},
     "output_type": "execute_result"
    }
   ],
   "source": [
    "mat5[0,0]"
   ]
  },
  {
   "cell_type": "code",
   "execution_count": null,
   "metadata": {},
   "outputs": [
    {
     "data": {
      "text/plain": [
       "-0.825538644316926"
      ]
     },
     "execution_count": 82,
     "metadata": {},
     "output_type": "execute_result"
    }
   ],
   "source": [
    "mat5[0,1]"
   ]
  },
  {
   "cell_type": "code",
   "execution_count": null,
   "metadata": {},
   "outputs": [
    {
     "data": {
      "text/plain": [
       "array([[ 1.10000000e+01, -8.25538644e-01, -1.11075627e+00,\n",
       "        -9.80373150e-01, -7.83293741e-01],\n",
       "       [ 1.38676035e+00, -3.98978381e-01,  9.83034279e-01,\n",
       "        -7.81479910e-01,  5.20444261e-01],\n",
       "       [ 1.25010956e+00,  2.04087097e-01, -1.39197169e-01,\n",
       "        -9.16771868e-03, -9.71296107e-01],\n",
       "       [-5.32883338e-01, -6.92820053e-02,  8.53726788e-01,\n",
       "        -5.94308964e-01,  2.73547862e-01],\n",
       "       [-3.36874543e-01,  1.36659509e+00,  1.82683737e-01,\n",
       "         3.07357965e-01,  6.56181535e-01]])"
      ]
     },
     "execution_count": 89,
     "metadata": {},
     "output_type": "execute_result"
    }
   ],
   "source": [
    "mat5[0:5]"
   ]
  },
  {
   "cell_type": "code",
   "execution_count": null,
   "metadata": {},
   "outputs": [
    {
     "data": {
      "text/plain": [
       "array([[ 1.10000000e+01, -8.25538644e-01, -1.11075627e+00,\n",
       "        -9.80373150e-01, -7.83293741e-01],\n",
       "       [ 1.38676035e+00, -3.98978381e-01,  9.83034279e-01,\n",
       "        -7.81479910e-01,  5.20444261e-01],\n",
       "       [ 1.25010956e+00,  2.04087097e-01, -1.39197169e-01,\n",
       "        -9.16771868e-03, -9.71296107e-01]])"
      ]
     },
     "execution_count": 84,
     "metadata": {},
     "output_type": "execute_result"
    }
   ],
   "source": [
    "mat5[0:3,:]"
   ]
  },
  {
   "cell_type": "code",
   "execution_count": null,
   "metadata": {},
   "outputs": [
    {
     "data": {
      "text/plain": [
       "array([[-0.82553864],\n",
       "       [-0.39897838],\n",
       "       [ 0.2040871 ]])"
      ]
     },
     "execution_count": 85,
     "metadata": {},
     "output_type": "execute_result"
    }
   ],
   "source": [
    "mat5[0:3,1:2]"
   ]
  },
  {
   "cell_type": "code",
   "execution_count": null,
   "metadata": {},
   "outputs": [
    {
     "data": {
      "text/plain": [
       "array([[ 1.10000000e+01, -8.25538644e-01, -1.11075627e+00,\n",
       "        -9.80373150e-01, -7.83293741e-01],\n",
       "       [ 1.38676035e+00, -3.98978381e-01,  9.83034279e-01,\n",
       "        -7.81479910e-01,  5.20444261e-01],\n",
       "       [ 1.25010956e+00,  2.04087097e-01, -1.39197169e-01,\n",
       "        -9.16771868e-03, -9.71296107e-01],\n",
       "       [-5.32883338e-01, -6.92820053e-02,  8.53726788e-01,\n",
       "        -5.94308964e-01,  2.73547862e-01],\n",
       "       [-3.36874543e-01,  1.36659509e+00,  1.82683737e-01,\n",
       "         3.07357965e-01,  6.56181535e-01]])"
      ]
     },
     "execution_count": 87,
     "metadata": {},
     "output_type": "execute_result"
    }
   ],
   "source": [
    "mat5"
   ]
  },
  {
   "cell_type": "markdown",
   "metadata": {},
   "source": [
    "# **Numpy**"
   ]
  },
  {
   "cell_type": "markdown",
   "metadata": {},
   "source": [
    "##  Array Creation"
   ]
  },
  {
   "cell_type": "markdown",
   "metadata": {},
   "source": [
    "- `np.array`: Creates a NumPy array, which is a multi-dimensional, homogeneous data structure that can hold various types of elements.\n",
    "\n"
   ]
  },
  {
   "cell_type": "code",
   "execution_count": null,
   "metadata": {},
   "outputs": [
    {
     "name": "stdout",
     "output_type": "stream",
     "text": [
      "NumPy Array: [10 20 30 40 50 60]\n"
     ]
    }
   ],
   "source": [
    "import numpy as np\n",
    "\n",
    "# Create a array\n",
    "arr = np.array([10,20,30,40,50,60])\n",
    "print(\"NumPy Array:\", arr)"
   ]
  },
  {
   "cell_type": "markdown",
   "metadata": {},
   "source": [
    "- `np.zeros`: Generates an array filled with zeros of a specified shape.\n"
   ]
  },
  {
   "cell_type": "markdown",
   "metadata": {},
   "source": []
  },
  {
   "cell_type": "code",
   "execution_count": null,
   "metadata": {},
   "outputs": [
    {
     "name": "stdout",
     "output_type": "stream",
     "text": [
      "Zeros_Array:\n",
      "[[0. 0. 0.]\n",
      " [0. 0. 0.]\n",
      " [0. 0. 0.]\n",
      " [0. 0. 0.]\n",
      " [0. 0. 0.]]\n"
     ]
    }
   ],
   "source": [
    "# Create an array of zeros\n",
    "zeros_arr = np.zeros((5, 3))  # 5 rows, 3 columns\n",
    "print(\"Zeros_Array:\")\n",
    "print(zeros_arr)"
   ]
  },
  {
   "cell_type": "markdown",
   "metadata": {},
   "source": [
    "\n",
    "- `np.ones`: Creates an array filled with ones of a specified shape.\n"
   ]
  },
  {
   "cell_type": "code",
   "execution_count": null,
   "metadata": {},
   "outputs": [
    {
     "name": "stdout",
     "output_type": "stream",
     "text": [
      "Ones_Array:\n",
      "[[1. 1. 1.]\n",
      " [1. 1. 1.]\n",
      " [1. 1. 1.]]\n"
     ]
    }
   ],
   "source": [
    "# Create an array of ones\n",
    "ones_arr = np.ones((3, 3))  # 3 rows, 3 columns\n",
    "print(\"Ones_Array:\")\n",
    "print(ones_arr)"
   ]
  },
  {
   "cell_type": "markdown",
   "metadata": {},
   "source": [
    "- `np.random.rand`: Generates random numbers in a specified shape from a uniform distribution over [0, 1).\n"
   ]
  },
  {
   "cell_type": "code",
   "execution_count": null,
   "metadata": {},
   "outputs": [
    {
     "name": "stdout",
     "output_type": "stream",
     "text": [
      "Random_Array:\n",
      "[[0.03664534 0.69487109 0.28804553 0.66212315 0.01538128]\n",
      " [0.87764416 0.02702201 0.6935926  0.11398822 0.31045797]]\n"
     ]
    }
   ],
   "source": [
    "# Generate random numbers between 0 and 1\n",
    "random_arr = np.random.rand(2, 5)  # 3 rows, 2 columns\n",
    "print(\"Random_Array:\")\n",
    "print(random_arr)\n"
   ]
  },
  {
   "cell_type": "markdown",
   "metadata": {},
   "source": [
    "**. Array Operations**"
   ]
  },
  {
   "cell_type": "code",
   "execution_count": null,
   "metadata": {},
   "outputs": [],
   "source": [
    "# Create two arrays\n",
    "arr1 = np.array([10, 20, 30])\n",
    "arr2 = np.array([40, 50, 60])"
   ]
  },
  {
   "cell_type": "markdown",
   "metadata": {},
   "source": [
    "- `np.add`: Element-wise addition of two arrays or a scalar and an array."
   ]
  },
  {
   "cell_type": "code",
   "execution_count": null,
   "metadata": {},
   "outputs": [
    {
     "name": "stdout",
     "output_type": "stream",
     "text": [
      "Addition_Result: [50 70 90]\n"
     ]
    }
   ],
   "source": [
    " # element wise addition\n",
    "\n",
    "add_result = np.add(arr1,arr2)\n",
    "print('Addition_Result:',add_result)\n"
   ]
  },
  {
   "cell_type": "markdown",
   "metadata": {},
   "source": [
    "- `np.subtract`: Element-wise subtraction of one array from another or a scalar from an array.\n"
   ]
  },
  {
   "cell_type": "code",
   "execution_count": null,
   "metadata": {},
   "outputs": [
    {
     "name": "stdout",
     "output_type": "stream",
     "text": [
      "Substraction_Result: [30 30 30]\n"
     ]
    }
   ],
   "source": [
    "#  element wise subtraction\n",
    "subtract_result = np.subtract(arr2,arr1)\n",
    "print('Substraction_Result:',subtract_result)"
   ]
  },
  {
   "cell_type": "markdown",
   "metadata": {},
   "source": [
    "- `np.multiply`: Element-wise multiplication of two arrays or a scalar and an array.\n",
    "\n",
    "https://numpy.org/doc/stable/reference/generated/numpy.multiply.html"
   ]
  },
  {
   "cell_type": "code",
   "execution_count": null,
   "metadata": {},
   "outputs": [
    {
     "name": "stdout",
     "output_type": "stream",
     "text": [
      "Multiplication_Result: [ 400 1000 1800]\n"
     ]
    }
   ],
   "source": [
    "# Perform element-wise multiplication\n",
    "multiply_result=np.multiply(arr1,arr2)\n",
    "print('Multiplication_Result:',multiply_result)\n"
   ]
  },
  {
   "cell_type": "markdown",
   "metadata": {},
   "source": [
    "- `np.divide`: Element-wise division of one array by another or a scalar by an array.\n",
    "\n"
   ]
  },
  {
   "cell_type": "code",
   "execution_count": null,
   "metadata": {},
   "outputs": [
    {
     "name": "stdout",
     "output_type": "stream",
     "text": [
      "Division_Reult: [0.25 0.4  0.5 ]\n"
     ]
    }
   ],
   "source": [
    "# element wise division\n",
    "divide_result=np.divide(arr1,arr2)\n",
    "print('Division_Reult:',divide_result)"
   ]
  },
  {
   "cell_type": "markdown",
   "metadata": {},
   "source": [
    "- `np.sqrt`: Computes the element-wise square root & square of an array.\n"
   ]
  },
  {
   "cell_type": "code",
   "execution_count": null,
   "metadata": {},
   "outputs": [
    {
     "name": "stdout",
     "output_type": "stream",
     "text": [
      "Square  Result: [ 4 16 36]\n",
      "Square_Root_Result: [2.23606798 3.16227766 3.87298335]\n"
     ]
    }
   ],
   "source": [
    "# Compute element-wise square root\n",
    "arSq = np.array([2,4,6])\n",
    "sqr_result = np.square(arSq)\n",
    "print(\"Square  Result:\", sqr_result)\n",
    "arr_sq = np.array([5,10,15])\n",
    "sqrt_result=np.sqrt(arr_sq)\n",
    "print('Square_Root_Result:',sqrt_result)"
   ]
  },
  {
   "cell_type": "code",
   "execution_count": null,
   "metadata": {},
   "outputs": [],
   "source": [
    "# Create a 2D array\n",
    "arr = np.array([[1, 2, 3], [4, 5, 6]])"
   ]
  },
  {
   "cell_type": "code",
   "execution_count": null,
   "metadata": {},
   "outputs": [
    {
     "data": {
      "text/plain": [
       "array([[1, 2, 3],\n",
       "       [4, 5, 6]])"
      ]
     },
     "execution_count": 114,
     "metadata": {},
     "output_type": "execute_result"
    }
   ],
   "source": [
    "arr"
   ]
  },
  {
   "cell_type": "markdown",
   "metadata": {},
   "source": [
    "- `ndarray.shape`: Returns a tuple representing the dimensions of the array.\n"
   ]
  },
  {
   "cell_type": "code",
   "execution_count": null,
   "metadata": {},
   "outputs": [
    {
     "name": "stdout",
     "output_type": "stream",
     "text": [
      "Array Shape: (2, 3)\n"
     ]
    }
   ],
   "source": [
    "# Get the shape of the array\n",
    "shape = arr.shape\n",
    "print(\"Array Shape:\", shape)"
   ]
  },
  {
   "cell_type": "markdown",
   "metadata": {},
   "source": [
    "- `ndarray.size`: Returns the total number of elements in the arra"
   ]
  },
  {
   "cell_type": "code",
   "execution_count": null,
   "metadata": {},
   "outputs": [
    {
     "name": "stdout",
     "output_type": "stream",
     "text": [
      "Array Size: 6\n"
     ]
    }
   ],
   "source": [
    "# Get the total number of elements\n",
    "size =arr.size\n",
    "print(\"Array Size:\", size)"
   ]
  },
  {
   "cell_type": "markdown",
   "metadata": {},
   "source": [
    "- `ndarray.ndim`: Returns the number of dimensions (axes) of the array.\n",
    "\n",
    "https://numpy.org/doc/stable/reference/generated/numpy.ndarray.ndim.html"
   ]
  },
  {
   "cell_type": "code",
   "execution_count": null,
   "metadata": {},
   "outputs": [],
   "source": [
    "array_num=np.array([1,2,3])"
   ]
  },
  {
   "cell_type": "code",
   "execution_count": null,
   "metadata": {},
   "outputs": [
    {
     "name": "stdout",
     "output_type": "stream",
     "text": [
      "Number of Dimensions: 2\n"
     ]
    }
   ],
   "source": [
    "# Get the number of dimensions\n",
    "ndim = arr.ndim\n",
    "print(\"Number of Dimensions:\", ndim)"
   ]
  },
  {
   "cell_type": "markdown",
   "metadata": {},
   "source": [
    "- `ndarray.dtype`: Returns the data type of the elements in the array."
   ]
  },
  {
   "cell_type": "code",
   "execution_count": null,
   "metadata": {},
   "outputs": [
    {
     "name": "stdout",
     "output_type": "stream",
     "text": [
      "Data Type: int32\n"
     ]
    }
   ],
   "source": [
    "# write data type of the elements\n",
    "dtype = array_num.dtype\n",
    "print(\"Data Type:\", dtype)"
   ]
  },
  {
   "cell_type": "markdown",
   "metadata": {},
   "source": [
    "- Indexing (`ndarray[index]`): Allows you to access a specific element in a NumPy ndarray using its index value. The index can be an integer or a tuple of integers for multidimensional arrays.\n"
   ]
  },
  {
   "cell_type": "code",
   "execution_count": null,
   "metadata": {},
   "outputs": [
    {
     "name": "stdout",
     "output_type": "stream",
     "text": [
      "Indexed Element: 2\n",
      "Indexed 2D Element: 3\n",
      "Indexed 3d elementy [5 6]\n"
     ]
    }
   ],
   "source": [
    "# Create a 1D array\n",
    "arr_1d = np.array([1, 2, 3, 4, 5])\n",
    "\n",
    "# Indexing: Access a specific element\n",
    "element = arr_1d[1]  # Access the element at index 2 (3rd element)\n",
    "print(\"Indexed Element:\", element)\n",
    "\n",
    "# Create a 2D array\n",
    "arr_2d = np.array([[1, 2, 3], [4, 5, 6], [7, 8, 9]])\n",
    "\n",
    "# Indexing: Access an element in a 2D array\n",
    "element_2d = arr_2d[0, 2]  # Access the element at row 1, column 2 (6)\n",
    "print(\"Indexed 2D Element:\", element_2d)\n",
    "\n",
    "arr_3d = np.array([[[3,4],[5,6],[7,8]]])\n",
    "\n",
    "element_3d = arr_3d[0,1]\n",
    "print(\"Indexed 3d elementy\", element_3d)\n",
    "\n"
   ]
  },
  {
   "cell_type": "markdown",
   "metadata": {},
   "source": [
    "- Slicing (`ndarray[start:end]`): Allows you to extract a portion of a NumPy ndarray using a range of indices. The `start` index is inclusive, and the `end` index is exclusive. This creates a new ndarray that contains the specified slice of elements."
   ]
  },
  {
   "cell_type": "code",
   "execution_count": null,
   "metadata": {},
   "outputs": [
    {
     "name": "stdout",
     "output_type": "stream",
     "text": [
      "Slice1c: [1 2 3]\n",
      "sliced2d: [[2]\n",
      " [5]]\n"
     ]
    }
   ],
   "source": [
    "sliced_1d=arr_1d[0:3]\n",
    "print('Slice1c:',sliced_1d)\n",
    "\n",
    "sliced_2d=arr_2d[0:2,1:2]\n",
    "print('sliced2d:',sliced_2d)"
   ]
  },
  {
   "cell_type": "code",
   "execution_count": null,
   "metadata": {},
   "outputs": [
    {
     "name": "stdout",
     "output_type": "stream",
     "text": [
      "Sliced 1D Array: [2 3 4]\n",
      "Sliced 2D Array:\n",
      "[[2 3]\n",
      " [5 6]]\n"
     ]
    }
   ],
   "source": [
    "# Slicing: Extract a portion of a 1D array\n",
    "sliced_1d = arr_1d[0:4]  # Extract elements from index 1 to 3 (exclusive)\n",
    "print(\"Sliced 1D Array:\", sliced_1d)\n",
    "\n",
    "# Slicing: Extract a portion of a 2D array\n",
    "sliced_2d = arr_2d[0:2, 1:3]  # Extract rows 0 to 1 and columns 1 to 2\n",
    "print(\"Sliced 2D Array:\")\n",
    "print(sliced_2d)"
   ]
  },
  {
   "cell_type": "markdown",
   "metadata": {},
   "source": [
    "5. Aggregation and Statistics:"
   ]
  },
  {
   "cell_type": "markdown",
   "metadata": {},
   "source": [
    "- `np.sum`: Computes the sum of array elements along a specified axis or over the entire array."
   ]
  },
  {
   "cell_type": "code",
   "execution_count": null,
   "metadata": {},
   "outputs": [
    {
     "name": "stdout",
     "output_type": "stream",
     "text": [
      "Sum: 45\n",
      "sum_1: 66\n"
     ]
    }
   ],
   "source": [
    "# Create a 1D array\n",
    "arr = np.array([4, 2, 9, 5, 1, 8, 6, 3, 7])\n",
    "\n",
    "arr_sum=np.array([8,6,-2,50,-4,7,1])\n",
    "\n",
    "# Compute the sum of array elements\n",
    "sum_result = np.sum(arr)\n",
    "print(\"Sum:\", sum_result)\n",
    "\n",
    "sum_result = np.sum(arr_sum)\n",
    "print('sum_1:',sum_result)"
   ]
  },
  {
   "cell_type": "markdown",
   "metadata": {},
   "source": [
    "- `np.mean`: Calculates the mean (average) of array elements along a specified axis or over the entire array.\n"
   ]
  },
  {
   "cell_type": "code",
   "execution_count": null,
   "metadata": {},
   "outputs": [
    {
     "name": "stdout",
     "output_type": "stream",
     "text": [
      "Mean: 9.428571428571429\n",
      "mean_1: 60.0\n"
     ]
    }
   ],
   "source": [
    "# Calculate the mean of array elements\n",
    "mean_result = np.mean(arr_sum)\n",
    "print(\"Mean:\", mean_result)\n",
    "\n",
    "mean_example=np.array([100,50,60,30])\n",
    "\n",
    "mean_result=np.mean(mean_example)\n",
    "print('mean_1:',mean_result)"
   ]
  },
  {
   "cell_type": "markdown",
   "metadata": {},
   "source": [
    "- `np.median`: Computes the median (middle value) of array elements along a specified axis or over the entire array."
   ]
  },
  {
   "cell_type": "code",
   "execution_count": null,
   "metadata": {},
   "outputs": [
    {
     "name": "stdout",
     "output_type": "stream",
     "text": [
      "Median: 5.0\n",
      "median : 55.0\n"
     ]
    }
   ],
   "source": [
    "# Calculate the median of array elements\n",
    "median_result = np.median(arr)\n",
    "print(\"Median:\", median_result)\n",
    "\n",
    "median_result=np.median(mean_example)\n",
    "print('median :',median_result)"
   ]
  },
  {
   "cell_type": "markdown",
   "metadata": {},
   "source": [
    "- `np.std`: Calculates the standard deviation of array elements along a specified axis or over the entire array.\n"
   ]
  },
  {
   "cell_type": "code",
   "execution_count": null,
   "metadata": {},
   "outputs": [
    {
     "name": "stdout",
     "output_type": "stream",
     "text": [
      "Standard Deviation: 2.581988897471611\n",
      "Standard_deviation: 14.142135623730951\n"
     ]
    }
   ],
   "source": [
    "# Calculate the standard deviation of array elements\n",
    "std_result = np.std(arr)\n",
    "print(\"Standard Deviation:\", std_result)\n",
    "\n",
    "std_example=np.array([10,20,30,40,50])\n",
    "\n",
    "std_result=np.std(std_example)\n",
    "print('Standard_deviation:',std_result)"
   ]
  },
  {
   "cell_type": "markdown",
   "metadata": {},
   "source": [
    "- `np.min`: Finds the minimum value among array elements along a specified axis or over the entire array.\n"
   ]
  },
  {
   "cell_type": "code",
   "execution_count": null,
   "metadata": {},
   "outputs": [
    {
     "name": "stdout",
     "output_type": "stream",
     "text": [
      "Minimum: 1\n",
      "Min_Value: 30\n"
     ]
    }
   ],
   "source": [
    "# Find the minimum value in the array\n",
    "min_result = np.min(arr)\n",
    "print(\"Minimum:\", min_result)\n",
    "\n",
    "min_exampl=np.array([70,60,50,700,30])\n",
    "min_result=np.min(min_exampl)\n",
    "print('Min_Value:',min_result)"
   ]
  },
  {
   "cell_type": "markdown",
   "metadata": {},
   "source": [
    "- `np.max`: Finds the maximum value among array elements along a specified axis or over the entire array."
   ]
  },
  {
   "cell_type": "code",
   "execution_count": null,
   "metadata": {},
   "outputs": [
    {
     "name": "stdout",
     "output_type": "stream",
     "text": [
      "Maximum: 9\n",
      "Max_value: 1111\n"
     ]
    }
   ],
   "source": [
    "# Find the maximum value in the array\n",
    "max_result = np.max(arr)\n",
    "print(\"Maximum:\", max_result)\n",
    "\n",
    "max_example=np.array([1000,1111,200,30])\n",
    "max_result=np.max(max_example)\n",
    "print('Max_value:',max_result)"
   ]
  },
  {
   "cell_type": "markdown",
   "metadata": {},
   "source": [
    "**6. Array Manipulation:**"
   ]
  },
  {
   "cell_type": "markdown",
   "metadata": {},
   "source": [
    "- `ndarray.reshape()`: Reshapes an ndarray to a specified new shape while maintaining the original data. The total number of elements must remain unchanged.\n",
    "\n"
   ]
  },
  {
   "cell_type": "code",
   "execution_count": null,
   "metadata": {},
   "outputs": [
    {
     "name": "stdout",
     "output_type": "stream",
     "text": [
      "[[10 20 30]\n",
      " [40 50 60]]\n",
      "[[1 2 3]\n",
      " [4 5 6]]\n",
      "Reshaped Array:\n",
      "[[1 2]\n",
      " [3 4]\n",
      " [5 6]]\n",
      "Reshaped_array: [[10 20 30 40 50 60]]\n",
      "[[10 20 30]\n",
      " [40 50 60]]\n"
     ]
    }
   ],
   "source": [
    "import numpy as np\n",
    "\n",
    "# Create a 2D array\n",
    "array2=np.array([[10,20,30],[40,50,60]])\n",
    "arr = np.array([[1, 2, 3], [4, 5, 6]])\n",
    "print(array2)\n",
    "print(arr)\n",
    "\n",
    "# Reshape the array to a different shape\n",
    "reshaped_arr = arr.reshape(3, 2)  # Reshaping to 3 rows, 2 columns\n",
    "print(\"Reshaped Array:\")\n",
    "print(reshaped_arr)\n",
    "\n",
    "reshaped_arr=array2.reshape(1, 6)\n",
    "print('Reshaped_array:',reshaped_arr)\n",
    "print(array2)"
   ]
  },
  {
   "cell_type": "markdown",
   "metadata": {},
   "source": [
    "- `ndarray.transpose()`: Transposes the dimensions of an ndarray, effectively flipping rows and columns."
   ]
  },
  {
   "cell_type": "code",
   "execution_count": null,
   "metadata": {},
   "outputs": [
    {
     "name": "stdout",
     "output_type": "stream",
     "text": [
      "Transposed Array:\n",
      "[[1 4]\n",
      " [2 5]\n",
      " [3 6]]\n",
      "Transposed_Array [[10 40]\n",
      " [20 50]\n",
      " [30 60]]\n"
     ]
    }
   ],
   "source": [
    "# Transpose the array\n",
    "transposed_arr = arr.transpose()  # Transpose rows and columns\n",
    "print(\"Transposed Array:\")\n",
    "print(transposed_arr)\n",
    "\n",
    "transposed_array2=array2.transpose()\n",
    "print('Transposed_Array',transposed_array2)"
   ]
  },
  {
   "cell_type": "markdown",
   "metadata": {},
   "source": [
    "**7. Loading and Saving Data**"
   ]
  },
  {
   "cell_type": "markdown",
   "metadata": {},
   "source": [
    "- `np.load`: Loads and returns an ndarray or a dictionary of ndarrays from a binary file (usually with a `.npy` extension) created using np.save.\n"
   ]
  },
  {
   "cell_type": "code",
   "execution_count": null,
   "metadata": {},
   "outputs": [
    {
     "name": "stdout",
     "output_type": "stream",
     "text": [
      "Original Array: [1 2 3 4 5]\n",
      "Original_array= [9 8 7 6 5]\n"
     ]
    }
   ],
   "source": [
    "# Create an ndarray\n",
    "arr = np.array([1, 2, 3, 4, 5])\n",
    "arr_2=np.array([9,8,7,6,5])\n",
    "\n",
    "# Save the ndarray to a file\n",
    "np.save('saved_array.npy', arr)\n",
    "np.save('Saved_arr.npy',arr_2)\n",
    "\n",
    "\n",
    "print(\"Original Array:\", arr)\n",
    "print('Original_array=',arr_2)"
   ]
  },
  {
   "cell_type": "markdown",
   "metadata": {},
   "source": [
    "- `np.save`: Saves an ndarray or a dictionary of ndarrays to a binary file with the `.npy` extension, preserving the data and metadata of the array(s).\n",
    "\n"
   ]
  },
  {
   "cell_type": "code",
   "execution_count": null,
   "metadata": {},
   "outputs": [
    {
     "name": "stdout",
     "output_type": "stream",
     "text": [
      "Loaded Array: [1 2 3 4 5]\n",
      "LOADED ARRAY [9 8 7 6 5]\n"
     ]
    }
   ],
   "source": [
    "# Load the ndarray \n",
    "loaded_arr = np.load('saved_array.npy')\n",
    "\n",
    "print(\"Loaded Array:\", loaded_arr)\n",
    "\n",
    "loaded_array=np.load('saved_arr.npy')\n",
    "print('LOADED ARRAY',loaded_array)"
   ]
  },
  {
   "cell_type": "markdown",
   "metadata": {},
   "source": []
  },
  {
   "cell_type": "markdown",
   "metadata": {},
   "source": [
    "**8. Handling Missing Data:**"
   ]
  },
  {
   "cell_type": "markdown",
   "metadata": {},
   "source": [
    "- `np.nan`: Represents a floating-point \"Not a Number\" value, often used to indicate missing or undefined data in arrays.\n"
   ]
  },
  {
   "cell_type": "code",
   "execution_count": null,
   "metadata": {},
   "outputs": [
    {
     "name": "stdout",
     "output_type": "stream",
     "text": [
      "[ 1. nan  3. nan  5.]\n",
      "[10. nan 30. nan 50. nan nan 80.]\n"
     ]
    }
   ],
   "source": [
    "import numpy as np\n",
    "# Create an array with NaN values\n",
    "arr_with_nan = np.array([1.0, np.nan, 3.0, np.nan, 5.0])\n",
    "\n",
    "\n",
    "array_with_nan = np.array([10.0, np.nan, 30 , np.nan, 50.0, np.nan, np.nan, 80.0])\n",
    "\n",
    "print(arr_with_nan)\n",
    "print(array_with_nan)\n",
    "\n"
   ]
  },
  {
   "cell_type": "markdown",
   "metadata": {},
   "source": [
    "- `np.isnan`: Returns a boolean array indicating which elements of an array are NaN (Not a Number).\n",
    "\n"
   ]
  },
  {
   "cell_type": "code",
   "execution_count": null,
   "metadata": {},
   "outputs": [
    {
     "name": "stdout",
     "output_type": "stream",
     "text": [
      "NaN Mask: [False  True False  True False]\n",
      "Nan Mask: [False  True False  True False  True  True False]\n"
     ]
    }
   ],
   "source": [
    "# Check for NaN values using np.isnan\n",
    "nan_mask = np.isnan(arr_with_nan)\n",
    "print(\"NaN Mask:\", nan_mask)\n",
    "\n",
    "nan_mask2 = np.isnan(array_with_nan)\n",
    "print('Nan Mask:',nan_mask2)"
   ]
  },
  {
   "cell_type": "code",
   "execution_count": null,
   "metadata": {},
   "outputs": [
    {
     "name": "stdout",
     "output_type": "stream",
     "text": [
      "['10.0' 'nan' '20' 'nan' '50.0' 'nan' 'nan' '80.0']\n"
     ]
    }
   ],
   "source": [
    "array2_with_nan = np.array([10.0, np.nan, '20', np.nan, 50.0, np.nan, np.nan, 80.0])\n",
    "print(array2_with_nan)"
   ]
  },
  {
   "cell_type": "code",
   "execution_count": null,
   "metadata": {},
   "outputs": [
    {
     "name": "stdout",
     "output_type": "stream",
     "text": [
      "NaN Mask: [False  True False  True False]\n"
     ]
    },
    {
     "ename": "TypeError",
     "evalue": "ufunc 'isnan' not supported for the input types, and the inputs could not be safely coerced to any supported types according to the casting rule ''safe''",
     "output_type": "error",
     "traceback": [
      "\u001b[1;31m---------------------------------------------------------------------------\u001b[0m",
      "\u001b[1;31mTypeError\u001b[0m                                 Traceback (most recent call last)",
      "Cell \u001b[1;32mIn[10], line 6\u001b[0m\n\u001b[0;32m      3\u001b[0m nan_mask \u001b[38;5;241m=\u001b[39m np\u001b[38;5;241m.\u001b[39misnan(arr_with_nan)\n\u001b[0;32m      4\u001b[0m \u001b[38;5;28mprint\u001b[39m(\u001b[38;5;124m'\u001b[39m\u001b[38;5;124mNaN Mask:\u001b[39m\u001b[38;5;124m'\u001b[39m, nan_mask)\n\u001b[1;32m----> 6\u001b[0m nan_mask2 \u001b[38;5;241m=\u001b[39m np\u001b[38;5;241m.\u001b[39misnan(array2_with_nan)\n\u001b[0;32m      7\u001b[0m \u001b[38;5;28mprint\u001b[39m(\u001b[38;5;124m'\u001b[39m\u001b[38;5;124mNan Mask:\u001b[39m\u001b[38;5;124m'\u001b[39m,nan_mask2)\n",
      "\u001b[1;31mTypeError\u001b[0m: ufunc 'isnan' not supported for the input types, and the inputs could not be safely coerced to any supported types according to the casting rule ''safe''"
     ]
    }
   ],
   "source": [
    "import numpy as np\n",
    "\n",
    "nan_mask = np.isnan(arr_with_nan)\n",
    "print('NaN Mask:', nan_mask)\n",
    "\n",
    "nan_mask2 = np.isnan(array2_with_nan)\n",
    "print('Nan Mask:',nan_mask2)"
   ]
  },
  {
   "cell_type": "markdown",
   "metadata": {},
   "source": [
    "- `np.where`: Returns the indices where a specified condition is met in an array, or returns values from two arrays based on a condition."
   ]
  },
  {
   "cell_type": "code",
   "execution_count": null,
   "metadata": {},
   "outputs": [
    {
     "name": "stdout",
     "output_type": "stream",
     "text": [
      "Indices where condition is True: (array([0, 2, 4], dtype=int64),)\n",
      "Values based on condition: [1. 0. 3. 0. 5.]\n"
     ]
    }
   ],
   "source": [
    "\n",
    "condition = np.array([True, False, True, False, True])\n",
    "\n",
    "indices = np.where(condition)\n",
    "print(\"Indices where condition is True:\", indices)\n",
    "\n",
    "values = np.where(condition, arr_with_nan, 0)\n",
    "print(\"Values based on condition:\", values)"
   ]
  }
 ],
 "metadata": {
  "kernelspec": {
   "display_name": "Python 3",
   "language": "python",
   "name": "python3"
  },
  "language_info": {
   "codemirror_mode": {
    "name": "ipython",
    "version": 3
   },
   "file_extension": ".py",
   "mimetype": "text/x-python",
   "name": "python",
   "nbconvert_exporter": "python",
   "pygments_lexer": "ipython3",
   "version": "3.12.1"
  }
 },
 "nbformat": 4,
 "nbformat_minor": 2
}
